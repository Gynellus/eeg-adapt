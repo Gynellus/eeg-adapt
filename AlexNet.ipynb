{
 "cells": [
  {
   "cell_type": "code",
   "execution_count": 1,
   "id": "1a09200a",
   "metadata": {},
   "outputs": [
    {
     "name": "stdout",
     "output_type": "stream",
     "text": [
      "(40, 32, 2500)\n"
     ]
    }
   ],
   "source": [
    "'''Preprocessor for KU Data.\n",
    "'''\n",
    "import argparse\n",
    "from os.path import join as pjoin\n",
    "\n",
    "import numpy as np\n",
    "from scipy.io import loadmat\n",
    "from scipy.signal import decimate\n",
    "from tqdm import tqdm\n",
    "\n",
    "src = \"DatasetAlex\"\n",
    "out = \"DatasetAlex\"\n",
    "\n",
    "def get_data(sess, subj):\n",
    "    filepath = src + \"/\" + subj + str(sess)\n",
    "    raw = loadmat(filepath)\n",
    "    X1 = np.asarray(raw['y'])\n",
    "    i = 9\n",
    "    X2 = np.empty((40,32,2500), dtype=float)\n",
    "    while True:\n",
    "        if i > len(X1[0]):\n",
    "            break\n",
    "        temp = X1[:,i:i+2500]\n",
    "        np.append(temp, X2)\n",
    "        i += 2500\n",
    "    return np.asarray(X2)\n",
    "#     X2 = np.moveaxis(raw['EEG_MI_test']['smt'][0][0], 0, -1)\n",
    "#     X2 = decimate(X2, 4)\n",
    "#     X = np.concatenate((X1, X2), axis=0)\n",
    "#     # Obtain target: 0 -> right, 1 -> left\n",
    "#     Y1 = (raw['EEG_MI_train']['y_dec'][0][0][0] - 1)\n",
    "#     Y2 = (raw['EEG_MI_test']['y_dec'][0][0][0] - 1)\n",
    "#     Y = np.concatenate((Y1, Y2), axis=0)\n",
    "#     return X, Y\n",
    "\n",
    "\n",
    "\n",
    "subj = \"alex\"\n",
    "X = get_data(1, subj)\n",
    "print(X.shape)\n",
    "Y = [0, 0, 0, 1, 0, 0, 1, 1, 1, 0, 1, 1, 1, 0, 0, 1, 0, 0, 1, 0, 1, 0, 0, 0, 1, 1, 0, 1, 1, 0, 1, 1, 1, 0, 0, 1, 0, 0, 1, 1]\n",
    "Y = np.asarray(Y, dtype = int)\n",
    "\n"
   ]
  },
  {
   "cell_type": "code",
   "execution_count": null,
   "id": "458d655d",
   "metadata": {},
   "outputs": [],
   "source": []
  }
 ],
 "metadata": {
  "kernelspec": {
   "display_name": "Python 3",
   "language": "python",
   "name": "python3"
  },
  "language_info": {
   "codemirror_mode": {
    "name": "ipython",
    "version": 3
   },
   "file_extension": ".py",
   "mimetype": "text/x-python",
   "name": "python",
   "nbconvert_exporter": "python",
   "pygments_lexer": "ipython3",
   "version": "3.6.13"
  }
 },
 "nbformat": 4,
 "nbformat_minor": 5
}
